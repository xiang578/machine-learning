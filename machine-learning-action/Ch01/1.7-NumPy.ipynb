{
 "cells": [
  {
   "cell_type": "code",
   "execution_count": 1,
   "metadata": {},
   "outputs": [
    {
     "data": {
      "text/plain": [
       "array([[0.57391629, 0.84469622, 0.14950394, 0.90670118],\n",
       "       [0.42465427, 0.23854357, 0.35629652, 0.82886273],\n",
       "       [0.06633548, 0.97814926, 0.32039084, 0.38694567],\n",
       "       [0.17467392, 0.84790116, 0.68741951, 0.84581193]])"
      ]
     },
     "execution_count": 1,
     "metadata": {},
     "output_type": "execute_result"
    }
   ],
   "source": [
    "from numpy import *\n",
    "random.rand(4,4)"
   ]
  },
  {
   "cell_type": "code",
   "execution_count": 2,
   "metadata": {},
   "outputs": [
    {
     "data": {
      "text/plain": [
       "matrix([[-1.90698743,  0.11677419,  1.83344904,  1.14016563],\n",
       "        [ 0.32280721,  1.4356446 , -2.57454948,  1.35699267],\n",
       "        [ 4.08433359, -1.60510526, -1.97732436, -1.46984442],\n",
       "        [-1.62551683,  0.46385932,  3.17985421, -0.92549473]])"
      ]
     },
     "execution_count": 2,
     "metadata": {},
     "output_type": "execute_result"
    }
   ],
   "source": [
    "randMat = mat(random.rand(4,4)) # mat()数组转化为矩阵\n",
    "randMat.I"
   ]
  }
 ],
 "metadata": {
  "kernelspec": {
   "display_name": "Python 2",
   "language": "python",
   "name": "python2"
  },
  "language_info": {
   "codemirror_mode": {
    "name": "ipython",
    "version": 2
   },
   "file_extension": ".py",
   "mimetype": "text/x-python",
   "name": "python",
   "nbconvert_exporter": "python",
   "pygments_lexer": "ipython2",
   "version": "2.7.14"
  }
 },
 "nbformat": 4,
 "nbformat_minor": 2
}
