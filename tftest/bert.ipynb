{
 "metadata": {
  "language_info": {
   "codemirror_mode": {
    "name": "ipython",
    "version": 3
   },
   "file_extension": ".py",
   "mimetype": "text/x-python",
   "name": "python",
   "nbconvert_exporter": "python",
   "pygments_lexer": "ipython3",
   "version": "3.7.0-final"
  },
  "orig_nbformat": 2,
  "kernelspec": {
   "name": "Python 3.7.0 64-bit ('base': conda)",
   "display_name": "Python 3.7.0 64-bit ('base': conda)",
   "metadata": {
    "interpreter": {
     "hash": "b7e914a3e14db2396d7aa0499f3b9a087c41715f629385a60ad231ca2cec5313"
    }
   }
  }
 },
 "nbformat": 4,
 "nbformat_minor": 2,
 "cells": [
  {
   "cell_type": "code",
   "execution_count": 2,
   "metadata": {},
   "outputs": [],
   "source": [
    "import tensorflow as tf\n",
    "import numpy as np"
   ]
  },
  {
   "cell_type": "code",
   "execution_count": 2,
   "metadata": {
    "tags": []
   },
   "outputs": [
    {
     "output_type": "stream",
     "name": "stdout",
     "text": "[1, 2, 3, 4, 12]\n"
    }
   ],
   "source": [
    "a = [1, 2, 3, 4, 5]\n",
    "print(a[0:-1] + [3 * 4])"
   ]
  },
  {
   "cell_type": "code",
   "execution_count": 5,
   "metadata": {
    "tags": []
   },
   "outputs": [
    {
     "output_type": "stream",
     "name": "stdout",
     "text": "[1, 1, 1, 1, 1, 1, 1, 1, 1, 1, 3, 4]\n"
    }
   ],
   "source": [
    "b = []\n",
    "for _ in range(10):\n",
    "    b.append(1)\n",
    "b.extend([3,4])\n",
    "print(b)"
   ]
  },
  {
   "cell_type": "code",
   "execution_count": 20,
   "metadata": {
    "tags": []
   },
   "outputs": [
    {
     "output_type": "stream",
     "name": "stdout",
     "text": "[[[1. 1. 1. 0. 0.]\n  [1. 1. 1. 0. 0.]\n  [1. 1. 1. 0. 0.]\n  [1. 1. 1. 0. 0.]\n  [1. 1. 1. 0. 0.]]\n\n [[1. 1. 1. 1. 1.]\n  [1. 1. 1. 1. 1.]\n  [1. 1. 1. 1. 1.]\n  [1. 1. 1. 1. 1.]\n  [1. 1. 1. 1. 1.]]]\n"
    }
   ],
   "source": [
    "from_tensor = tf.constant([[1,2,3,0,0], [1,3,5,6,1]])\n",
    "to_mask = tf.constant([[1,1,1,0,0], [1,1,1,1,1]])\n",
    "\n",
    "to_mask = tf.cast(tf.reshape(to_mask, [2, 1, 5]), tf.float32)\n",
    "# print(to_mask_2)\n",
    "broadcast_ones = tf.ones(\n",
    "      shape=[2, 5, 1], dtype=tf.float32)\n",
    "mask = broadcast_ones * to_mask\n",
    "init = tf.global_variables_initializer()\n",
    "\n",
    "with tf.Session() as sess:\n",
    "    # print(sess.run(to_mask))\n",
    "    print(sess.run(mask))"
   ]
  },
  {
   "cell_type": "code",
   "execution_count": null,
   "metadata": {},
   "outputs": [],
   "source": []
  }
 ]
}