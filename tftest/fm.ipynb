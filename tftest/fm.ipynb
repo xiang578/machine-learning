{
 "cells": [
  {
   "cell_type": "code",
   "execution_count": 1,
   "metadata": {},
   "outputs": [
    {
     "output_type": "execute_result",
     "data": {
      "text/plain": "&#39;1.15.0&#39;"
     },
     "metadata": {},
     "execution_count": 1
    }
   ],
   "source": [
    "import tensorflow as tf\n",
    "import numpy as np\n",
    "tf.__version__"
   ]
  },
  {
   "cell_type": "code",
   "execution_count": 2,
   "metadata": {
    "tags": []
   },
   "outputs": [
    {
     "output_type": "stream",
     "name": "stdout",
     "text": "(7, 16)\n(7, 1)\n"
    }
   ],
   "source": [
    "x_data = np.matrix([\n",
    "#    Users  |     Movies     |    Movie Ratings   | Time | Last Movies Rated\n",
    "#   A  B  C | TI  NH  SW  ST | TI   NH   SW   ST  |      | TI  NH  SW  ST\n",
    "    [1, 0, 0,  1,  0,  0,  0,   0.3, 0.3, 0.3, 0,     13,   0,  0,  0,  0 ],\n",
    "    [1, 0, 0,  0,  1,  0,  0,   0.3, 0.3, 0.3, 0,     14,   1,  0,  0,  0 ],\n",
    "    [1, 0, 0,  0,  0,  1,  0,   0.3, 0.3, 0.3, 0,     16,   0,  1,  0,  0 ],\n",
    "    [0, 1, 0,  0,  0,  1,  0,   0,   0,   0.5, 0.5,   5,    0,  0,  0,  0 ],\n",
    "    [0, 1, 0,  0,  0,  0,  1,   0,   0,   0.5, 0.5,   8,    0,  0,  1,  0 ],\n",
    "    [0, 0, 1,  1,  0,  0,  0,   0.5, 0,   0.5, 0,     9,    0,  0,  0,  0 ],\n",
    "    [0, 0, 1,  0,  0,  1,  0,   0.5, 0,   0.5, 0,     12,   1,  0,  0,  0 ]\n",
    "])\n",
    "# ratings\n",
    "y_data = np.array([5, 3, 1, 4, 5, 1, 5])\n",
    "# Let's add an axis to make tensoflow happy.\n",
    "y_data.shape += (1, )\n",
    "\n",
    "print(x_data.shape)\n",
    "print(y_data.shape)"
   ]
  },
  {
   "cell_type": "code",
   "execution_count": 3,
   "metadata": {},
   "outputs": [
    {
     "output_type": "error",
     "ename": "SyntaxError",
     "evalue": "invalid syntax (&lt;ipython-input-3-7e1c9c499f02&gt;, line 2)",
     "traceback": [
      "\u001b[0;36m  File \u001b[0;32m&quot;&lt;ipython-input-3-7e1c9c499f02&gt;&quot;\u001b[0;36m, line \u001b[0;32m2\u001b[0m\n\u001b[0;31m    x = tf.\u001b[0m\n\u001b[0m           ^\u001b[0m\n\u001b[0;31mSyntaxError\u001b[0m\u001b[0;31m:\u001b[0m invalid syntax\n"
     ]
    }
   ],
   "source": [
    "n, p = x_data.shape\n",
    "x = tf.palceholder('float', shape=[n, p])\n",
    "y = tf.palceholder('float', shape=[n, 1])\n",
    "b = tf.Variable(tf.zeros([1]))\n",
    "w = tf.Varibale(tf.rand)\n"
   ]
  },
  {
   "cell_type": "code",
   "execution_count": null,
   "metadata": {},
   "outputs": [],
   "source": [
    "n, p = x_data.shape\n",
    "# number of latent factors\n",
    "k = 5\n",
    "# design matrix\n",
    "X = tf.placeholder('float', shape=[n, p])\n",
    "# target vector\n",
    "y = tf.placeholder('float', shape=[n, 1])\n",
    "# bias and weights\n",
    "w0 = tf.Variable(tf.zeros([1]))\n",
    "W = tf.Variable(tf.zeros([p]))\n",
    "# interaction factors, randomly initialized \n",
    "V = tf.Variable(tf.random_normal([k, p], stddev=0.01))\n",
    "# estimate of y, initialized to 0.\n",
    "y_hat = tf.Variable(tf.zeros([n, 1]))\n",
    "\n",
    "linear_terms = tf.add(w0, tf.reduce_sum(tf.multiply(W, X), 1, keep_dims=True))\n",
    "\n",
    "interactions = (tf.multiply(0.5, tf.reduce_sum(tf.subtract(tf.pow( tf.matmul(X, tf.transpose(V)), 2),\n",
    "                                                      tf.matmul(tf.pow(X, 2), tf.transpose(tf.pow(V, 2)))),1, keep_dims=True)))\n",
    "\n",
    "\n",
    "y_hat = tf.add(linear_terms, interactions)\n",
    "\n",
    "lambda_w = tf.constant(0.001, name=\"lambda_w\")\n",
    "lambda_v = tf.constant(0.001, name=\"lambda_v\")\n",
    "\n",
    "l2_norm = tf.reduce_sum(tf.add(tf.multiply(lambda_w, tf.pow(W, 2)), tf.multiply(lambda_v, tf.pow(V, 2))))\n",
    "\n",
    "error = tf.reduce_mean(tf.square(tf.subtract(y, y_hat)))\n",
    "loss = tf.add(error, l2_norm)\n",
    "\n",
    "eta = tf.constant(0.1)\n",
    "optimizer = tf.train.AdagradOptimizer(eta).minimize(loss)\n",
    "\n",
    "epochs = 1000\n",
    "\n",
    "init = tf.global_variables_initializer()\n",
    "\n",
    "with tf.Session() as sess:\n",
    "    sess.run(init)\n",
    "\n",
    "    for e in range(epochs):\n",
    "        indices = np.arange(n)\n",
    "        np.random.shuffle(indices)\n",
    "        x_data, y_data = x_data[indices], y_data[indices]\n",
    "        sess.run(optimizer, feed_dict={X: x_data, y: y_data})\n",
    "\n",
    "        print('MSE: ', sess.run(error, feed_dict={X: x_data, y: y_data}))\n",
    "        print('Loss (regularized error):', sess.run(l2_norm, feed_dict={X: x_data, y: y_data}))\n",
    "        print('Predictions:', sess.run(y_hat, feed_dict={X: x_data, y: y_data}))\n",
    "        print('Learnt weights:', sess.run(W, feed_dict={X: x_data, y: y_data}))\n",
    "        print('Learnt factors:', sess.run(V, feed_dict={X: x_data, y: y_data}))"
   ]
  },
  {
   "cell_type": "code",
   "execution_count": null,
   "metadata": {},
   "outputs": [],
   "source": [
    "vacab_size = \n",
    "embedding_size = \n",
    "v_embeedings = tf.get_variable(\"v_embeddings\", [, 5], initializer=tf.zeros_initializer()) "
   ]
  },
  {
   "cell_type": "code",
   "execution_count": null,
   "metadata": {},
   "outputs": [],
   "source": [
    "a = "
   ]
  }
 ],
 "metadata": {
  "kernelspec": {
   "display_name": "Python 3",
   "language": "python",
   "name": "python3"
  },
  "language_info": {
   "codemirror_mode": {
    "name": "ipython",
    "version": 3
   },
   "file_extension": ".py",
   "mimetype": "text/x-python",
   "name": "python",
   "nbconvert_exporter": "python",
   "pygments_lexer": "ipython3",
   "version": "3.7.0-final"
  }
 },
 "nbformat": 4,
 "nbformat_minor": 2
}